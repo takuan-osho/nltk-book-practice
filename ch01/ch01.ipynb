{
 "cells": [
  {
   "cell_type": "code",
   "execution_count": 1,
   "metadata": {
    "collapsed": false
   },
   "outputs": [
    {
     "name": "stdout",
     "output_type": "stream",
     "text": [
      "showing info http://www.nltk.org/nltk_data/\n"
     ]
    },
    {
     "data": {
      "text/plain": [
       "True"
      ]
     },
     "execution_count": 1,
     "metadata": {},
     "output_type": "execute_result"
    }
   ],
   "source": [
    "import nltk\n",
    "nltk.download()"
   ]
  },
  {
   "cell_type": "code",
   "execution_count": 2,
   "metadata": {
    "collapsed": false
   },
   "outputs": [
    {
     "name": "stdout",
     "output_type": "stream",
     "text": [
      "*** Introductory Examples for the NLTK Book ***\n",
      "Loading text1, ..., text9 and sent1, ..., sent9\n",
      "Type the name of the text or sentence to view it.\n",
      "Type: 'texts()' or 'sents()' to list the materials.\n",
      "text1: Moby Dick by Herman Melville 1851\n",
      "text2: Sense and Sensibility by Jane Austen 1811\n",
      "text3: The Book of Genesis\n",
      "text4: Inaugural Address Corpus\n",
      "text5: Chat Corpus\n",
      "text6: Monty Python and the Holy Grail\n",
      "text7: Wall Street Journal\n",
      "text8: Personals Corpus\n",
      "text9: The Man Who Was Thursday by G . K . Chesterton 1908\n"
     ]
    }
   ],
   "source": [
    "from nltk.book import *"
   ]
  },
  {
   "cell_type": "code",
   "execution_count": 3,
   "metadata": {
    "collapsed": false
   },
   "outputs": [
    {
     "data": {
      "text/plain": [
       "<Text: Moby Dick by Herman Melville 1851>"
      ]
     },
     "execution_count": 3,
     "metadata": {},
     "output_type": "execute_result"
    }
   ],
   "source": [
    "text1"
   ]
  },
  {
   "cell_type": "code",
   "execution_count": 4,
   "metadata": {
    "collapsed": false
   },
   "outputs": [
    {
     "data": {
      "text/plain": [
       "<Text: Sense and Sensibility by Jane Austen 1811>"
      ]
     },
     "execution_count": 4,
     "metadata": {},
     "output_type": "execute_result"
    }
   ],
   "source": [
    "text2"
   ]
  },
  {
   "cell_type": "code",
   "execution_count": 5,
   "metadata": {
    "collapsed": false
   },
   "outputs": [
    {
     "name": "stdout",
     "output_type": "stream",
     "text": [
      "Displaying 11 of 11 matches:\n",
      "ong the former , one was of a most monstrous size . ... This came towards us , \n",
      "ON OF THE PSALMS . \" Touching that monstrous bulk of the whale or ork we have r\n",
      "ll over with a heathenish array of monstrous clubs and spears . Some were thick\n",
      "d as you gazed , and wondered what monstrous cannibal and savage could ever hav\n",
      "that has survived the flood ; most monstrous and most mountainous ! That Himmal\n",
      "they might scout at Moby Dick as a monstrous fable , or still worse and more de\n",
      "th of Radney .'\" CHAPTER 55 Of the Monstrous Pictures of Whales . I shall ere l\n",
      "ing Scenes . In connexion with the monstrous pictures of whales , I am strongly\n",
      "ere to enter upon those still more monstrous stories of them which are to be fo\n",
      "ght have been rummaged out of this monstrous cabinet there is no telling . But \n",
      "of Whale - Bones ; for Whales of a monstrous size are oftentimes cast up dead u\n"
     ]
    }
   ],
   "source": [
    "text1.concordance('monstrous')"
   ]
  },
  {
   "cell_type": "code",
   "execution_count": 6,
   "metadata": {
    "collapsed": false
   },
   "outputs": [
    {
     "name": "stdout",
     "output_type": "stream",
     "text": [
      "Displaying 25 of 84 matches:\n",
      "                                     Dick by Herman Melville 1851 ] ETYMOLOGY \n",
      "must be the same that some call Moby Dick .\" \" Moby Dick ?\" shouted Ahab . \" D\n",
      "e that some call Moby Dick .\" \" Moby Dick ?\" shouted Ahab . \" Do ye know the w\n",
      " Death and devils ! men , it is Moby Dick ye have seen -- Moby Dick -- Moby Di\n",
      "it is Moby Dick ye have seen -- Moby Dick -- Moby Dick !\" \" Captain Ahab ,\" sa\n",
      "ck ye have seen -- Moby Dick -- Moby Dick !\" \" Captain Ahab ,\" said Starbuck ,\n",
      " Captain Ahab , I have heard of Moby Dick -- but it was not Moby Dick that too\n",
      " of Moby Dick -- but it was not Moby Dick that took off thy leg ?\" \" Who told \n",
      " my hearties all round ; it was Moby Dick that dismasted me ; Moby Dick that b\n",
      "s Moby Dick that dismasted me ; Moby Dick that brought me to this dead stump I\n",
      "white whale ; a sharp lance for Moby Dick !\" \" God bless ye ,\" he seemed to ha\n",
      " white whale ? art not game for Moby Dick ?\" \" I am game for his crooked jaw ,\n",
      "l whaleboat ' s bow -- Death to Moby Dick ! God hunt us all , if we do not hun\n",
      "hunt us all , if we do not hunt Moby Dick to his death !\" The long , barbed st\n",
      "owels to feel fear ! CHAPTER 41 Moby Dick . I , Ishmael , was one of that crew\n",
      "ividualizing tidings concerning Moby Dick . It was hardly to be doubted , that\n",
      "on must have been no other than Moby Dick . Yet as of late the Sperm Whale fis\n",
      "ident ignorantly gave battle to Moby Dick ; such hunters , perhaps , for the m\n",
      "g and piling their terrors upon Moby Dick ; those things had gone far to shake\n",
      "ies , which eventually invested Moby Dick with new terrors unborrowed from any\n",
      "rmen recalled , in reference to Moby Dick , the earlier days of the Sperm Whal\n",
      "ngs were ready to give chase to Moby Dick ; and a still greater number who , c\n",
      " was the unearthly conceit that Moby Dick was ubiquitous ; that he had actuall\n",
      "their superstitions ; declaring Moby Dick not only ubiquitous , but immortal (\n",
      " shaped lower jaw beneath him , Moby Dick had reaped away Ahab ' s leg , as a \n"
     ]
    }
   ],
   "source": [
    "text1.concordance('Dick')"
   ]
  },
  {
   "cell_type": "code",
   "execution_count": 7,
   "metadata": {
    "collapsed": false
   },
   "outputs": [
    {
     "name": "stdout",
     "output_type": "stream",
     "text": [
      "Displaying 25 of 79 matches:\n",
      ", however , and , as a mark of his affection for the three girls , he left them\n",
      "t . It was very well known that no affection was ever supposed to exist between\n",
      "deration of politeness or maternal affection on the side of the former , the tw\n",
      "d the suspicion -- the hope of his affection for me may warrant , without impru\n",
      "hich forbade the indulgence of his affection . She knew that his mother neither\n",
      "rd she gave one with still greater affection . Though her late conversation wit\n",
      " can never hope to feel or inspire affection again , and if her home be uncomfo\n",
      "m of the sense , elegance , mutual affection , and domestic comfort of the fami\n",
      ", and which recommended him to her affection beyond every thing else . His soci\n",
      "ween the parties might forward the affection of Mr . Willoughby , an equally st\n",
      " the most pointed assurance of her affection . Elinor could not be surprised at\n",
      "he natural consequence of a strong affection in a young and ardent mind . This \n",
      " opinion . But by an appeal to her affection for her mother , by representing t\n",
      " every alteration of a place which affection had established as perfect with hi\n",
      "e will always have one claim of my affection , which no other can possibly shar\n",
      "f the evening declared at once his affection and happiness . \" Shall we see you\n",
      "ause he took leave of us with less affection than his usual behaviour has shewn\n",
      "ness .\" \" I want no proof of their affection ,\" said Elinor ; \" but of their en\n",
      "onths , without telling her of his affection ;-- that they should part without \n",
      "ould be the natural result of your affection for her . She used to be all unres\n",
      "distinguished Elinor by no mark of affection . Marianne saw and listened with i\n",
      "th no inclination for expense , no affection for strangers , no profession , an\n",
      "till distinguished her by the same affection which once she had felt no doubt o\n",
      "al of her confidence in Edward ' s affection , to the remembrance of every mark\n",
      " was made ? Had he never owned his affection to yourself ?\" \" Oh , no ; but if \n"
     ]
    }
   ],
   "source": [
    "text2.concordance('affection')"
   ]
  },
  {
   "cell_type": "code",
   "execution_count": 8,
   "metadata": {
    "collapsed": false
   },
   "outputs": [
    {
     "name": "stdout",
     "output_type": "stream",
     "text": [
      "true tyrannical trustworthy modifies vexatious singular lazy puzzled\n",
      "horrible reliable mystifying imperial untoward few christian passing\n",
      "delightfully domineering lamentable exasperate\n"
     ]
    }
   ],
   "source": [
    "text1.similar('monstrous')"
   ]
  },
  {
   "cell_type": "code",
   "execution_count": 9,
   "metadata": {
    "collapsed": false
   },
   "outputs": [
    {
     "name": "stdout",
     "output_type": "stream",
     "text": [
      "very heartily so exceedingly a sweet vast as good remarkably extremely\n",
      "amazingly great\n"
     ]
    }
   ],
   "source": [
    "text2.similar('monstrous')"
   ]
  },
  {
   "cell_type": "code",
   "execution_count": 11,
   "metadata": {
    "collapsed": false
   },
   "outputs": [
    {
     "name": "stdout",
     "output_type": "stream",
     "text": [
      "am_glad a_pretty is_pretty a_lucky be_glad\n"
     ]
    }
   ],
   "source": [
    "text2.common_contexts(['monstrous', 'very'])"
   ]
  },
  {
   "cell_type": "code",
   "execution_count": 17,
   "metadata": {
    "collapsed": false
   },
   "outputs": [
    {
     "name": "stdout",
     "output_type": "stream",
     "text": [
      "Displaying 25 of 477 matches:\n",
      "pon the face of the waters . And God said , Let there be light : and there was\n",
      "morning were the first day . And God said , Let there be a firmament in the mi\n",
      "orning were the second day . And God said , Let the waters under the heaven be\n",
      "d God saw that it was good . And God said , Let the earth bring forth grass , \n",
      "morning were the third day . And God said , Let there be lights in the firmame\n",
      "orning were the fourth day . And God said , Let the waters bring forth abundan\n",
      "morning were the fifth day . And God said , Let the earth bring forth the livi\n",
      "d God saw that it was good . And God said , Let us make man in our image , aft\n",
      "hem . And God blessed them , and God said unto them , Be fruitful , and multip\n",
      "that moveth upon the earth . And God said , Behold , I have given you every he\n",
      " shalt surely die . And the LORD God said , It is not good that the man should\n",
      " brought her unto the man . And Adam said , This is now bone of my bones , and\n",
      "which the LORD God had made . And he said unto the woman , Yea , hath God said\n",
      "said unto the woman , Yea , hath God said , Ye shall not eat of every tree of \n",
      "y tree of the garden ? And the woman said unto the serpent , We may eat of the\n",
      "n the midst of the garden , God hath said , Ye shall not eat of it , neither s\n",
      "h it , lest ye die . And the serpent said unto the woman , Ye shall not surely\n",
      " the LORD God called unto Adam , and said unto him , Where art thou ? And he s\n",
      "d unto him , Where art thou ? And he said , I heard thy voice in the garden , \n",
      "as naked ; and I hid myself . And he said , Who told thee that thou wast naked\n",
      "thou shouldest not eat ? And the man said , The woman whom thou gavest to be w\n",
      "e , and I did eat . And the LORD God said unto the woman , What is this that t\n",
      " that thou hast done ? And the woman said , The serpent beguiled me , and I di\n",
      "e , and I did eat . And the LORD God said unto the serpent , Because thou hast\n",
      " bruise his heel . Unto the woman he said , I will greatly multiply thy sorrow\n"
     ]
    }
   ],
   "source": [
    "text3.concordance('said')"
   ]
  },
  {
   "cell_type": "code",
   "execution_count": 18,
   "metadata": {
    "collapsed": false
   },
   "outputs": [
    {
     "name": "stdout",
     "output_type": "stream",
     "text": [
      "he joseph pharaoh jacob abraham they she isaac sarah them him it abram\n",
      "me i laban thee esau judah israel\n"
     ]
    }
   ],
   "source": [
    "text3.similar('God')"
   ]
  },
  {
   "cell_type": "code",
   "execution_count": 19,
   "metadata": {
    "collapsed": false
   },
   "outputs": [
    {
     "name": "stdout",
     "output_type": "stream",
     "text": [
      "and_called in_s and_came and_went and_heard and_set and_said is_s\n",
      "of_was and_was of_came of_and and_sent and_blessed\n"
     ]
    }
   ],
   "source": [
    "text3.common_contexts(['God', 'jacob'])"
   ]
  },
  {
   "cell_type": "code",
   "execution_count": null,
   "metadata": {
    "collapsed": true
   },
   "outputs": [],
   "source": []
  }
 ],
 "metadata": {
  "kernelspec": {
   "display_name": "Python 3",
   "language": "python",
   "name": "python3"
  },
  "language_info": {
   "codemirror_mode": {
    "name": "ipython",
    "version": 3
   },
   "file_extension": ".py",
   "mimetype": "text/x-python",
   "name": "python",
   "nbconvert_exporter": "python",
   "pygments_lexer": "ipython3",
   "version": "3.5.1"
  }
 },
 "nbformat": 4,
 "nbformat_minor": 0
}
